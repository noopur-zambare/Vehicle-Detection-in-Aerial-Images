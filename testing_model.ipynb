{
 "cells": [
  {
   "cell_type": "code",
   "execution_count": null,
   "metadata": {},
   "outputs": [],
   "source": [
    "from keras.models import load_model\n",
    "import pandas as pd\n",
    "import os\n",
    "import numpy as np\n",
    "import cv2\n",
    "import time\n",
    "from tensorflow import keras\n",
    "from keras.utils import to_categorical\n",
    "from sklearn.preprocessing import LabelBinarizer"
   ]
  },
  {
   "cell_type": "code",
   "execution_count": null,
   "metadata": {},
   "outputs": [],
   "source": [
    "start = time.time()\n",
    "Annotations = []\n",
    "directory = 'Annotations512'\n",
    "for filename in os.listdir(directory):\n",
    "    f = os.path.join(directory, filename)\n",
    "    df = pd.read_csv(f,header = None,sep = ' ')\n",
    "    locations = []\n",
    "    for i in range(len(df)):\n",
    "        n1 = int(df.iloc[i,0])\n",
    "        n2 = int(df.iloc[i,1])\n",
    "        n11 = max(n1-10,0)\n",
    "        n12 = min(n1+10,511)\n",
    "        n21 = max(n2-10,0)\n",
    "        n22 = min(n2+10,511)\n",
    "        label = int(df.iloc[i,3])\n",
    "        locations.append([[n11, n12, n21, n22],[label]])\n",
    "    \n",
    "    Annotations.append(locations)\n",
    "    Annotations.append(locations)\n",
    "    \n",
    "end = time.time()\n",
    "print(\"process took\",end-start,\"seconds\")"
   ]
  },
  {
   "cell_type": "code",
   "execution_count": null,
   "metadata": {},
   "outputs": [],
   "source": [
    "start = time.time()\n",
    "directory = 'Vehicules512'\n",
    "INPUT_SIZE = (64, 64)\n",
    "index = 0\n",
    "data = []\n",
    "labels = []\n",
    "\n",
    "for filename in os.listdir(directory):\n",
    "    f = os.path.join(directory, filename)\n",
    "    orig = cv2.imread(f)\n",
    "    for annotation in Annotations[index]:\n",
    "        label = annotation[1][0]\n",
    "        if(label == 1 or label == 11):\n",
    "            roiOrig = orig[annotation[0][2]:annotation[0][3], annotation[0][0]:annotation[0][1]]\n",
    "            roi = cv2.cvtColor(roiOrig, cv2.COLOR_BGR2RGB)\n",
    "            roi = cv2.resize(roi, INPUT_SIZE)\n",
    "\n",
    "            data.append(roi)\n",
    "            labels.append(label)\n",
    "    index += 1\n",
    "        \n",
    "end = time.time()\n",
    "print(\"process took\",end-start,\"seconds\")"
   ]
  },
  {
   "cell_type": "code",
   "execution_count": null,
   "metadata": {},
   "outputs": [],
   "source": [
    "data = np.array(data)\n",
    "labels = np.array(labels)\n",
    "\n",
    "lb = LabelBinarizer()\n",
    "labels = lb.fit_transform(labels)\n",
    "labels = to_categorical(labels)"
   ]
  },
  {
   "cell_type": "code",
   "execution_count": null,
   "metadata": {},
   "outputs": [],
   "source": [
    "model = load_model('VGG16_2Class_acc_76.h5')\n",
    "\n",
    "start = time.time()\n",
    "predictions = model.predict(x=data, batch_size=32)\n",
    "predict = predictions.argmax(axis = 1)\n",
    "\n",
    "end = time.time()\n",
    "print(\"process took\",end-start,\"seconds\")"
   ]
  },
  {
   "cell_type": "code",
   "execution_count": null,
   "metadata": {},
   "outputs": [],
   "source": [
    "from sklearn.metrics import confusion_matrix, accuracy_score, classification_report\n",
    "y_true = labels.argmax(axis = 1)\n",
    "\n",
    "print(classification_report(labels.argmax(axis=1),\n",
    "\tpredictions.argmax(axis=1),target_names=['car','pickup']))\n",
    "\n",
    "print()\n",
    "\n",
    "print(\"counfusion matrix\")\n",
    "print(confusion_matrix(y_true, predict))\n",
    "\n",
    "print()\n",
    "print(\"accuracy: \",accuracy_score(y_true, predict))"
   ]
  }
 ],
 "metadata": {
  "kernelspec": {
   "display_name": "Python 3.10.4 64-bit",
   "language": "python",
   "name": "python3"
  },
  "language_info": {
   "name": "python",
   "version": "3.10.4"
  },
  "orig_nbformat": 4,
  "vscode": {
   "interpreter": {
    "hash": "f0c15b60262a0dfc6bf9da4875e0835bc5e682ede22ed1be1af6505ac2595f62"
   }
  }
 },
 "nbformat": 4,
 "nbformat_minor": 2
}
